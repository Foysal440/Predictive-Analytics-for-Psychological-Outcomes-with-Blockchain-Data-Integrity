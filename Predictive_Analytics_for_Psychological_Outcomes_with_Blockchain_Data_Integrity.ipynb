{
  "nbformat": 4,
  "nbformat_minor": 0,
  "metadata": {
    "colab": {
      "provenance": [],
      "gpuType": "T4",
      "authorship_tag": "ABX9TyNmOOm+zmOwyn3dCcofEos6",
      "include_colab_link": true
    },
    "kernelspec": {
      "name": "python3",
      "display_name": "Python 3"
    },
    "language_info": {
      "name": "python"
    },
    "accelerator": "GPU"
  },
  "cells": [
    {
      "cell_type": "markdown",
      "metadata": {
        "id": "view-in-github",
        "colab_type": "text"
      },
      "source": [
        "<a href=\"https://colab.research.google.com/github/Foysal440/Predictive-Analytics-for-Psychological-Outcomes-with-Blockchain-Data-Integrity/blob/main/Predictive_Analytics_for_Psychological_Outcomes_with_Blockchain_Data_Integrity.ipynb\" target=\"_parent\"><img src=\"https://colab.research.google.com/assets/colab-badge.svg\" alt=\"Open In Colab\"/></a>"
      ]
    },
    {
      "cell_type": "markdown",
      "source": [
        "# Packages"
      ],
      "metadata": {
        "id": "kFBqqadMlfvm"
      }
    },
    {
      "cell_type": "code",
      "execution_count": null,
      "metadata": {
        "id": "0GB-v7AukLwY"
      },
      "outputs": [],
      "source": [
        "import numpy as np\n",
        "import pandas as pd\n",
        "from sklearn.model_selection import train_test_split, GridSearchCV\n",
        "from sklearn.ensemble import RandomForestClassifier\n",
        "from sklearn.metrics import accuracy_score, roc_auc_score\n",
        "from sklearn.preprocessing import StandardScaler\n",
        "from sklearn.ensemble import RandomForestClassifier\n",
        "from sklearn.model_selection import train_test_split\n",
        "from sklearn.metrics import accuracy_score, confusion_matrix, roc_curve, auc\n",
        "import matplotlib.pyplot as plt\n",
        "import hashlib"
      ]
    },
    {
      "cell_type": "markdown",
      "source": [
        "# Simulate psychological assessment data"
      ],
      "metadata": {
        "id": "6bGaK9jhof3D"
      }
    },
    {
      "cell_type": "code",
      "source": [
        "np.random.seed(42)\n",
        "X = np.random.rand(5000, 20)  # Increased to 5000 samples and 20 features\n",
        "y = np.random.randint(2, size=5000)  # Binary target variable"
      ],
      "metadata": {
        "id": "1MGCqiNiohVS"
      },
      "execution_count": null,
      "outputs": []
    },
    {
      "cell_type": "markdown",
      "source": [
        "# Feature Engineering: Standardizing the features"
      ],
      "metadata": {
        "id": "_1mJoMpMspeF"
      }
    },
    {
      "cell_type": "code",
      "source": [
        "scaler = StandardScaler()\n",
        "X_scaled = scaler.fit_transform(X)"
      ],
      "metadata": {
        "id": "UWfhbZo3ssyW"
      },
      "execution_count": null,
      "outputs": []
    },
    {
      "cell_type": "markdown",
      "source": [
        "# Data Preprocessing"
      ],
      "metadata": {
        "id": "4uSKKXt2pIj7"
      }
    },
    {
      "cell_type": "code",
      "source": [
        "X_train, X_test, y_train, y_test = train_test_split(X_scaled, y, test_size=0.25, random_state=42)"
      ],
      "metadata": {
        "id": "rvyyzkMopLYa"
      },
      "execution_count": null,
      "outputs": []
    },
    {
      "cell_type": "markdown",
      "source": [
        "# RandomForestClassifier for Predictive Analysis"
      ],
      "metadata": {
        "id": "iwwyTLr-pOy7"
      }
    },
    {
      "cell_type": "code",
      "source": [
        "model = RandomForestClassifier(n_estimators=100, random_state=42)\n",
        "model.fit(X_train, y_train)\n",
        "predictions = model.predict(X_test)\n",
        "accuracy = accuracy_score(y_test, predictions)"
      ],
      "metadata": {
        "id": "xYB36OpApTnD"
      },
      "execution_count": null,
      "outputs": []
    },
    {
      "cell_type": "markdown",
      "source": [
        "# Model Evaluation Visualization"
      ],
      "metadata": {
        "id": "IpNrdFUQpW66"
      }
    },
    {
      "cell_type": "code",
      "source": [
        "fpr, tpr, thresholds = roc_curve(y_test, model.predict_proba(X_test)[:,1])\n",
        "roc_auc = auc(fpr, tpr)\n"
      ],
      "metadata": {
        "id": "pN1vjhJBpZn8"
      },
      "execution_count": null,
      "outputs": []
    },
    {
      "cell_type": "markdown",
      "source": [
        "# Simple Blockchain Simulation for Data Integrity"
      ],
      "metadata": {
        "id": "HR-gnW7lpdDz"
      }
    },
    {
      "cell_type": "code",
      "source": [
        "class SimpleBlockchain:\n",
        "    def __init__(self):\n",
        "        self.chain = []\n",
        "        self.add_block(\"Genesis block\")\n",
        "\n",
        "    def add_block(self, data):\n",
        "        previous_hash = self.chain[-1][\"hash\"] if self.chain else '0' * 64\n",
        "        block_data = str(data)\n",
        "        block_hash = hashlib.sha256(block_data.encode() + previous_hash.encode()).hexdigest()\n",
        "        block = {\"hash\": block_hash, \"data\": data, \"previous_hash\": previous_hash}\n",
        "        self.chain.append(block)\n",
        "\n",
        "blockchain = SimpleBlockchain()\n",
        "for feature_set in X_train[:5]:  # Add first 5 training feature sets to blockchain\n",
        "    data_hash = hashlib.sha256(feature_set.tobytes()).hexdigest()\n",
        "    blockchain.add_block(data_hash)"
      ],
      "metadata": {
        "id": "yhJ7u78nphKr"
      },
      "execution_count": null,
      "outputs": []
    },
    {
      "cell_type": "markdown",
      "source": [
        "# Visualization"
      ],
      "metadata": {
        "id": "bPaCJao6pleb"
      }
    },
    {
      "cell_type": "code",
      "source": [
        "plt.figure(figsize=(12, 6))\n",
        "plt.show()"
      ],
      "metadata": {
        "colab": {
          "base_uri": "https://localhost:8080/",
          "height": 35
        },
        "id": "MdyW4kLWpoG7",
        "outputId": "02458203-7a77-445b-f146-caf12d917eda"
      },
      "execution_count": null,
      "outputs": [
        {
          "output_type": "display_data",
          "data": {
            "text/plain": [
              "<Figure size 1200x600 with 0 Axes>"
            ]
          },
          "metadata": {}
        }
      ]
    },
    {
      "cell_type": "markdown",
      "source": [
        "# ROC Curve for Model Performance"
      ],
      "metadata": {
        "id": "C1LoecS8pt4j"
      }
    },
    {
      "cell_type": "code",
      "source": [
        "plt.subplot(1, 2, 1)\n",
        "plt.plot(fpr, tpr, label='ROC curve (area = %0.2f)' % roc_auc)\n",
        "plt.plot([0, 1], [0, 1], 'k--')\n",
        "plt.xlim([0.0, 1.0])\n",
        "plt.ylim([0.0, 1.05])\n",
        "plt.xlabel('False Positive Rate')\n",
        "plt.ylabel('True Positive Rate')\n",
        "plt.title('Model Performance: ROC Curve')\n",
        "plt.legend(loc=\"lower right\")"
      ],
      "metadata": {
        "colab": {
          "base_uri": "https://localhost:8080/",
          "height": 490
        },
        "id": "l6fp7yWPpvIL",
        "outputId": "17f54107-e30d-4be9-92e1-236b34726e91"
      },
      "execution_count": null,
      "outputs": [
        {
          "output_type": "execute_result",
          "data": {
            "text/plain": [
              "<matplotlib.legend.Legend at 0x7812360eb610>"
            ]
          },
          "metadata": {},
          "execution_count": 9
        },
        {
          "output_type": "display_data",
          "data": {
            "text/plain": [
              "<Figure size 640x480 with 1 Axes>"
            ],
            "image/png": "[encoded data removed]"
          },
          "metadata": {}
        }
      ]
    },
    {
      "cell_type": "markdown",
      "source": [
        "# Blockchain Data Integrity Visualization"
      ],
      "metadata": {
        "id": "APTP9hoApzwM"
      }
    },
    {
      "cell_type": "code",
      "source": [
        "plt.subplot(1, 2, 2)\n",
        "block_hashes = [block['hash'][:8] for block in blockchain.chain]  # Show partial hashes\n",
        "plt.bar(range(len(block_hashes)), [1]*len(block_hashes), tick_label=block_hashes, color='skyblue')\n",
        "plt.xticks(rotation=45)\n",
        "plt.title('Blockchain: Data Integrity')\n",
        "plt.xlabel('Block Hash')\n",
        "plt.ylabel('Verified')\n",
        "\n",
        "plt.tight_layout()\n",
        "plt.show()"
      ],
      "metadata": {
        "colab": {
          "base_uri": "https://localhost:8080/",
          "height": 487
        },
        "id": "3KFWM0H4p29t",
        "outputId": "a0858564-f2cb-4971-bf4a-a2f50495dea4"
      },
      "execution_count": null,
      "outputs": [
        {
          "output_type": "display_data",
          "data": {
            "text/plain": [
              "<Figure size 640x480 with 1 Axes>"
            ],
            "image/png": "[encoded data removed]"
          },
          "metadata": {}
        }
      ]
    },
    {
      "cell_type": "markdown",
      "source": [
        "# Accuracy"
      ],
      "metadata": {
        "id": "BxkN-5KXp9rs"
      }
    },
    {
      "cell_type": "code",
      "source": [
        "print(f\"Model Accuracy: {accuracy:.2f}\")"
      ],
      "metadata": {
        "colab": {
          "base_uri": "https://localhost:8080/"
        },
        "id": "AkCtWwUEqCSd",
        "outputId": "060b9fdb-6491-4996-e63d-ea93eea4791b"
      },
      "execution_count": null,
      "outputs": [
        {
          "output_type": "stream",
          "name": "stdout",
          "text": [
            "Model Accuracy: 0.53\n"
          ]
        }
      ]
    },
    {
      "cell_type": "markdown",
      "source": [
        "# Evaluating the best model from grid search"
      ],
      "metadata": {
        "id": "1JIP83JYs_XK"
      }
    },
    {
      "cell_type": "code",
      "source": [
        "param_grid = {\n",
        "    'n_estimators': [100, 200],\n",
        "    'max_depth': [None, 10, 20],\n",
        "    'min_samples_split': [2, 5]\n",
        "}\n",
        "\n",
        "grid_search = GridSearchCV(RandomForestClassifier(random_state=42), param_grid, cv=5, scoring='accuracy')\n",
        "grid_search.fit(X_train, y_train)\n",
        "\n",
        "# Evaluating the best model from grid search\n",
        "best_model = grid_search.best_estimator_\n",
        "predictions = best_model.predict(X_test)\n",
        "accuracy = accuracy_score(y_test, predictions)\n",
        "roc_auc = roc_auc_score(y_test, best_model.predict_proba(X_test)[:, 1])\n",
        "\n",
        "print(f\"Best Model Parameters: {grid_search.best_params_}\")\n",
        "print(f\"Accuracy: {accuracy:.2f}\")\n",
        "print(f\"ROC AUC: {roc_auc:.2f}\")\n"
      ],
      "metadata": {
        "colab": {
          "base_uri": "https://localhost:8080/"
        },
        "id": "Z6YkDTMKs57J",
        "outputId": "0bcc5374-957c-4b5f-a2ed-258c93922335"
      },
      "execution_count": null,
      "outputs": [
        {
          "output_type": "stream",
          "name": "stdout",
          "text": [
            "Best Model Parameters: {'max_depth': None, 'min_samples_split': 2, 'n_estimators': 100}\n",
            "Accuracy: 0.53\n",
            "ROC AUC: 0.53\n"
          ]
        }
      ]
    }
  ]
}